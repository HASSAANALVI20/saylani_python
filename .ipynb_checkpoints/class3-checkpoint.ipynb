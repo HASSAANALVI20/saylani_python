{
 "cells": [
  {
   "cell_type": "raw",
   "id": "e8f7509f",
   "metadata": {},
   "source": [
    "## Concatenation"
   ]
  },
  {
   "cell_type": "code",
   "execution_count": 2,
   "id": "0a91f298",
   "metadata": {},
   "outputs": [],
   "source": [
    "first_name = \"Hassan\" # String\n",
    "last_name = \"Alvi\" #String\n",
    "age = 29  #integer\n",
    "weight = 116.5 #float\n",
    "is_student = True #boolean\n",
    "\n"
   ]
  },
  {
   "cell_type": "code",
   "execution_count": 3,
   "id": "ffb91f6e",
   "metadata": {},
   "outputs": [
    {
     "data": {
      "text/plain": [
       "'Student name of python class is Hassan Alvi'"
      ]
     },
     "execution_count": 3,
     "metadata": {},
     "output_type": "execute_result"
    }
   ],
   "source": [
    "\"Student name of python class is \" + first_name + \" \" + last_name"
   ]
  },
  {
   "cell_type": "markdown",
   "id": "0abfad61",
   "metadata": {},
   "source": [
    "## Conditional Statements"
   ]
  },
  {
   "cell_type": "code",
   "execution_count": 14,
   "id": "4bdc26cf",
   "metadata": {},
   "outputs": [
    {
     "name": "stdout",
     "output_type": "stream",
     "text": [
      "Pakistani's will celebrate\n"
     ]
    }
   ],
   "source": [
    "result = \"win\"\n",
    "if result == \"win\":\n",
    "    print(\"Pakistani's will celebrate\")\n",
    "else:\n",
    "    print(\"Pakistani,s will not celebrate\")"
   ]
  },
  {
   "cell_type": "code",
   "execution_count": 26,
   "id": "4ecf1ef7",
   "metadata": {},
   "outputs": [
    {
     "name": "stdout",
     "output_type": "stream",
     "text": [
      "This car description is not available\n"
     ]
    }
   ],
   "source": [
    "vehicle = \"Toyattaa\"\n",
    "if vehicle == \"suzuki\":\n",
    "    print(\"The car company is \",vehicle)\n",
    "elif vehicle == \"Toyatta\":\n",
    "    print(f'The car company is {vehicle}')\n",
    "elif vehicle == \"mazda\":\n",
    "    print(\"The car company is \",vehicle)\n",
    "elif vehicle == \"MG\":\n",
    "    print(\"The car company is \",vehicle)\n",
    "elif vehicle == \"Honda\":\n",
    "    print(\"The car company is \",vehicle)\n",
    "else:\n",
    "    print(\"This car description is not available\")"
   ]
  },
  {
   "cell_type": "code",
   "execution_count": null,
   "id": "67b621e0",
   "metadata": {},
   "outputs": [],
   "source": [
    "marks = 50\n",
    "if (marks >= 80):\n",
    "    print(\"Your grades is A\")\n",
    "elif(marks <= 79 and marks >= 70):\n",
    "    print(\"Your grades is B\")\n",
    "elif(marks <= 69 and marks >= 50):\n",
    "    print(\"Your grade is C\")\n",
    "else:\n",
    "    print(\"You are fail\")"
   ]
  },
  {
   "cell_type": "markdown",
   "id": "746ebe71",
   "metadata": {},
   "source": [
    "## User Input"
   ]
  },
  {
   "cell_type": "code",
   "execution_count": null,
   "id": "81d9667c",
   "metadata": {},
   "outputs": [],
   "source": [
    "marks = int(input(\"Enter your Marks: \"))\n",
    "print(marks)"
   ]
  },
  {
   "cell_type": "raw",
   "id": "b2561a86",
   "metadata": {},
   "source": []
  }
 ],
 "metadata": {
  "kernelspec": {
   "display_name": "Python 3 (ipykernel)",
   "language": "python",
   "name": "python3"
  },
  "language_info": {
   "codemirror_mode": {
    "name": "ipython",
    "version": 3
   },
   "file_extension": ".py",
   "mimetype": "text/x-python",
   "name": "python",
   "nbconvert_exporter": "python",
   "pygments_lexer": "ipython3",
   "version": "3.11.4"
  }
 },
 "nbformat": 4,
 "nbformat_minor": 5
}
