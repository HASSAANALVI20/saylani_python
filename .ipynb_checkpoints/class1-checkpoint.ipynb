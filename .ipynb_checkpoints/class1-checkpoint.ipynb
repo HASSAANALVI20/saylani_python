{
 "cells": [
  {
   "cell_type": "markdown",
   "id": "95d70c69",
   "metadata": {},
   "source": [
    "### Markdown\n",
    "\n",
    "- By default extension of jupyter -> `.ipnyb`\n",
    "- ESC + A (create cell above)\n",
    "- ESC + B (Create cell below)\n",
    "- Esc + DD (Delete cell)\n",
    "\n",
    "\n",
    "1. By default extension of jupyter -> `.ipnyb`\n",
    "2. ESC + A (create cell above)\n",
    "3. ESC + B (Create cell below)\n",
    "4. Esc + DD (Delete cell)\n",
    "5. CTRL + SHIFT + H (All  jupyter commands)\n",
    "6. SHIFT + ENTER (RUN CELL)\n",
    "\n",
    "\n"
   ]
  },
  {
   "cell_type": "code",
   "execution_count": 1,
   "id": "3e839e58",
   "metadata": {},
   "outputs": [
    {
     "name": "stdout",
     "output_type": "stream",
     "text": [
      "Hellow world\n"
     ]
    }
   ],
   "source": [
    "print(\"Hellow world\")"
   ]
  },
  {
   "cell_type": "code",
   "execution_count": 2,
   "id": "976ef781",
   "metadata": {},
   "outputs": [
    {
     "data": {
      "text/plain": [
       "14"
      ]
     },
     "execution_count": 2,
     "metadata": {},
     "output_type": "execute_result"
    }
   ],
   "source": [
    "5+9"
   ]
  },
  {
   "cell_type": "code",
   "execution_count": 3,
   "id": "b9ccf69d",
   "metadata": {},
   "outputs": [
    {
     "data": {
      "text/plain": [
       "-1"
      ]
     },
     "execution_count": 3,
     "metadata": {},
     "output_type": "execute_result"
    }
   ],
   "source": [
    "1-2"
   ]
  },
  {
   "cell_type": "code",
   "execution_count": null,
   "id": "cff9d7f9",
   "metadata": {},
   "outputs": [],
   "source": []
  }
 ],
 "metadata": {
  "kernelspec": {
   "display_name": "Python 3 (ipykernel)",
   "language": "python",
   "name": "python3"
  },
  "language_info": {
   "codemirror_mode": {
    "name": "ipython",
    "version": 3
   },
   "file_extension": ".py",
   "mimetype": "text/x-python",
   "name": "python",
   "nbconvert_exporter": "python",
   "pygments_lexer": "ipython3",
   "version": "3.11.4"
  }
 },
 "nbformat": 4,
 "nbformat_minor": 5
}
