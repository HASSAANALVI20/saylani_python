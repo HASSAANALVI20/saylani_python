{
 "cells": [
  {
   "cell_type": "code",
   "execution_count": 1,
   "id": "a1acbb5c",
   "metadata": {},
   "outputs": [
    {
     "name": "stdout",
     "output_type": "stream",
     "text": [
      "Can Proceed test\n",
      "take the input pass or failedpass\n",
      "can take admission\n"
     ]
    }
   ],
   "source": [
    "matric_pass =True\n",
    "\n",
    "#Conditional Statements\n",
    "if (matric_pass):\n",
    "    print(f\"Can Proceed test\")\n",
    "    test_cleared = input(\"take the input pass or failed\")\n",
    "    if(test_cleared == \"pass\"):\n",
    "        print(f\"can take admission\")\n",
    "    else:\n",
    "        print(f\"Your are in wating List\")\n",
    "else:\n",
    "    print(\"Atleast Matric is the Bare Minimum Requirement\")"
   ]
  },
  {
   "cell_type": "code",
   "execution_count": 2,
   "id": "93ec0b42",
   "metadata": {},
   "outputs": [
    {
     "name": "stdout",
     "output_type": "stream",
     "text": [
      "test pass or failpass\n",
      "matric pass or failfail\n",
      "You can not enrolled in this class\n"
     ]
    }
   ],
   "source": [
    "test_cleared = input(\"test pass or fail \")\n",
    "matric_pass = input(\"matric pass or fail \")\n",
    "if (test_cleared == \"pass\" and matric_pass == \"pass\"):\n",
    "    print(\"You Got Admission\")\n",
    "elif (matric_pass == \"pass\"):\n",
    "    print(\"You are waiting in list\")\n",
    "else:\n",
    "    print(\"You can not enrolled in this class\")\n",
    "    "
   ]
  },
  {
   "cell_type": "code",
   "execution_count": 6,
   "id": "e718984b",
   "metadata": {},
   "outputs": [
    {
     "name": "stdout",
     "output_type": "stream",
     "text": [
      "<class 'list'>\n"
     ]
    },
    {
     "data": {
      "text/plain": [
       "['Chicago', 'Denver']"
      ]
     },
     "execution_count": 6,
     "metadata": {},
     "output_type": "execute_result"
    }
   ],
   "source": [
    "#syntax of list like array\n",
    "#list_name = [value1, value2]\n",
    "\n",
    "cities = [\"Atlanta\" , \"Baltimore\", \"Chicago\", \"Denver\", \"Los Angles\", \"Seattle\"]\n",
    "print(type(cities))\n",
    "\n",
    "cities[1]\n",
    "\n",
    "cities[2:4]\n",
    "#in slicing firstvalues is inc and last val exclude\n",
    "#use negative slicing\n",
    "cities[-3:-1]"
   ]
  },
  {
   "cell_type": "code",
   "execution_count": null,
   "id": "318eb365",
   "metadata": {},
   "outputs": [],
   "source": []
  }
 ],
 "metadata": {
  "kernelspec": {
   "display_name": "Python 3 (ipykernel)",
   "language": "python",
   "name": "python3"
  },
  "language_info": {
   "codemirror_mode": {
    "name": "ipython",
    "version": 3
   },
   "file_extension": ".py",
   "mimetype": "text/x-python",
   "name": "python",
   "nbconvert_exporter": "python",
   "pygments_lexer": "ipython3",
   "version": "3.11.4"
  }
 },
 "nbformat": 4,
 "nbformat_minor": 5
}
